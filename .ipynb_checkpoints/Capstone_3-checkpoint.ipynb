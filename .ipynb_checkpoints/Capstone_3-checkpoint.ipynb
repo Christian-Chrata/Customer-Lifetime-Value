{
 "cells": [
  {
   "cell_type": "markdown",
   "id": "78739ebf-b894-4d6d-b129-be312f51a093",
   "metadata": {},
   "source": [
    "## Customer Lifetime Value\n",
    "### Created By : Christian\n",
    "### Dataset : [Customer Lifetime Value Dataset](https://drive.google.com/drive/folders/1GR7l3uWmcOCA2sxx1W-cEkReDxdedoeJ) "
   ]
  },
  {
   "cell_type": "code",
   "execution_count": 1,
   "id": "c09215ff-0989-419c-913c-05b7bff3bdd9",
   "metadata": {},
   "outputs": [],
   "source": [
    "# Library\n",
    "import pandas as pd\n",
    "import numpy as np\n",
    "\n",
    "# Visualization\n",
    "import matplotlib.pyplot as plt\n",
    "import seaborn as sns\n",
    "import missingno\n",
    "from IPython.display import display\n",
    "\n",
    "# Feature Engineering\n",
    "from sklearn.pipeline import Pipeline\n",
    "from sklearn.impute import SimpleImputer\n",
    "from sklearn.preprocessing import OneHotEncoder, LabelEncoder, OrdinalEncoder\n",
    "from sklearn.compose import ColumnTransformer\n",
    "import category_encoders as ce\n",
    "\n",
    "# Model Selection\n",
    "from sklearn.linear_model import LogisticRegression\n",
    "from sklearn.tree import DecisionTreeClassifier\n",
    "from sklearn.model_selection import GridSearchCV,StratifiedKFold,train_test_split, cross_val_score\n",
    "from sklearn.metrics import classification_report, confusion_matrix\n",
    "from sklearn.neighbors import KNeighborsClassifier\n",
    "from sklearn.ensemble import RandomForestClassifier\n",
    "from xgboost import XGBClassifier\n",
    "import lightgbm as lgb\n",
    "from sklearn.metrics import f1_score, accuracy_score, recall_score, precision_score\n",
    "from sklearn.metrics import RocCurveDisplay\n",
    "\n",
    "# Imbalance Dataset\n",
    "from imblearn.pipeline import Pipeline\n",
    "from imblearn.over_sampling import RandomOverSampler\n",
    "\n",
    "# Ignore Warning\n",
    "import sys\n",
    "import warnings\n",
    "if not sys.warnoptions:\n",
    "    warnings.simplefilter(\"ignore\")\n",
    "\n",
    "# Set max columns\n",
    "pd.set_option('display.max_columns', None)"
   ]
  },
  {
   "cell_type": "markdown",
   "id": "5e5a296f-d0a2-4134-8185-ee80c70c41df",
   "metadata": {},
   "source": [
    "## Business Problem Understanding"
   ]
  },
  {
   "cell_type": "markdown",
   "id": "df5bf98c-1225-46d4-b547-49ba36c3cf09",
   "metadata": {},
   "source": [
    "**Context**\\\n",
    "Customer Lifetime Value (CLV) is a key metric that estimates the total revenue a business can expect from a customer over the duration of their relationship. Understanding CLV helps companies identify high-value customers and develop strategies to retain them through targeted marketing and service optimization.\n",
    "\n",
    "The dataset provided contains customer profile information such as vehicle class, coverage type, employment status, and other financial indicators like income, number of policies, and monthly premiums."
   ]
  },
  {
   "cell_type": "markdown",
   "id": "3f200e89-e90b-49b5-b26b-7e86d73a7daa",
   "metadata": {},
   "source": [
    "**Problem Statement**\\\n",
    "The company wants to accurately predict the Customer Lifetime Value of its customers using available customer and policy data. By doing so, the company can:\n",
    "- Optimize marketing spending\n",
    "- Prioritize retention efforts for high-value customers\n",
    "- Improve customer segmentation strategies"
   ]
  },
  {
   "cell_type": "markdown",
   "id": "b92cbbcb-b9ed-48be-9cd0-2f1e77afabb5",
   "metadata": {},
   "source": [
    "**Goals**\n",
    "- Build a machine learning model to predict CLV using historical customer data.\n",
    "- Identify key features that influence CLV.\n",
    "- Evaluate and compare model performance using appropriate regression metrics."
   ]
  },
  {
   "cell_type": "markdown",
   "id": "87f285cf-b05d-4960-b6b0-66ef60df4262",
   "metadata": {},
   "source": [
    "**Metric Evaluation**\\\n",
    "Since this is a regression task, we’ll use:\n",
    "- **Mean Absolute Error (MAE)**: Measures average absolute errors.\n",
    "- **Root Mean Squared Error (RMSE)**: Penalizes large errors more than MAE.\n",
    "- **R² Score**: Measures how well the model explains variance in the target variable."
   ]
  },
  {
   "cell_type": "markdown",
   "id": "337c554f-13cc-47e6-8f21-21d72f66277b",
   "metadata": {},
   "source": [
    "## Data Understanding"
   ]
  },
  {
   "cell_type": "markdown",
   "id": "7225b404-7130-4261-8d4d-c5b24e4b00d9",
   "metadata": {},
   "source": [
    "### Feature Information\n",
    "| Feature                 | Data Type | Description                                           |\n",
    "| ----------------------- | --------- | ----------------------------------------------------- |\n",
    "| Vehicle Class           | object    | Type of vehicle owned by the customer                 |\n",
    "| Coverage                | object    | Insurance coverage level                              |\n",
    "| Renew Offer Type        | object    | Type of renewal offer received                        |\n",
    "| EmploymentStatus        | object    | Employment status of the customer                     |\n",
    "| Marital Status          | object    | Marital status of the customer                        |\n",
    "| Education               | object    | Education level of the customer                       |\n",
    "| Number of Policies      | float64   | Number of insurance policies held                     |\n",
    "| Monthly Premium Auto    | float64   | Monthly premium amount paid for auto insurance        |\n",
    "| Total Claim Amount      | float64   | Total amount claimed by the customer                  |\n",
    "| Income                  | float64   | Customer's annual income                              |\n",
    "| Customer Lifetime Value | float64   | Predicted lifetime value of the customer (**Target**) |\n"
   ]
  },
  {
   "cell_type": "code",
   "execution_count": 2,
   "id": "cf3de174-9622-413e-985f-c1cc5ea6ae9f",
   "metadata": {},
   "outputs": [
    {
     "data": {
      "text/html": [
       "<div>\n",
       "<style scoped>\n",
       "    .dataframe tbody tr th:only-of-type {\n",
       "        vertical-align: middle;\n",
       "    }\n",
       "\n",
       "    .dataframe tbody tr th {\n",
       "        vertical-align: top;\n",
       "    }\n",
       "\n",
       "    .dataframe thead th {\n",
       "        text-align: right;\n",
       "    }\n",
       "</style>\n",
       "<table border=\"1\" class=\"dataframe\">\n",
       "  <thead>\n",
       "    <tr style=\"text-align: right;\">\n",
       "      <th></th>\n",
       "      <th>Vehicle Class</th>\n",
       "      <th>Coverage</th>\n",
       "      <th>Renew Offer Type</th>\n",
       "      <th>EmploymentStatus</th>\n",
       "      <th>Marital Status</th>\n",
       "      <th>Education</th>\n",
       "      <th>Number of Policies</th>\n",
       "      <th>Monthly Premium Auto</th>\n",
       "      <th>Total Claim Amount</th>\n",
       "      <th>Income</th>\n",
       "      <th>Customer Lifetime Value</th>\n",
       "    </tr>\n",
       "  </thead>\n",
       "  <tbody>\n",
       "    <tr>\n",
       "      <th>5187</th>\n",
       "      <td>Sports Car</td>\n",
       "      <td>Basic</td>\n",
       "      <td>Offer3</td>\n",
       "      <td>Disabled</td>\n",
       "      <td>Married</td>\n",
       "      <td>Bachelor</td>\n",
       "      <td>1.0</td>\n",
       "      <td>113.0</td>\n",
       "      <td>542.400000</td>\n",
       "      <td>14476.0</td>\n",
       "      <td>4236.842920</td>\n",
       "    </tr>\n",
       "    <tr>\n",
       "      <th>4716</th>\n",
       "      <td>Two-Door Car</td>\n",
       "      <td>Extended</td>\n",
       "      <td>Offer2</td>\n",
       "      <td>Employed</td>\n",
       "      <td>Married</td>\n",
       "      <td>College</td>\n",
       "      <td>1.0</td>\n",
       "      <td>94.0</td>\n",
       "      <td>451.200000</td>\n",
       "      <td>94903.0</td>\n",
       "      <td>3808.122147</td>\n",
       "    </tr>\n",
       "    <tr>\n",
       "      <th>2646</th>\n",
       "      <td>Four-Door Car</td>\n",
       "      <td>Basic</td>\n",
       "      <td>Offer4</td>\n",
       "      <td>Disabled</td>\n",
       "      <td>Married</td>\n",
       "      <td>Bachelor</td>\n",
       "      <td>2.0</td>\n",
       "      <td>72.0</td>\n",
       "      <td>430.818992</td>\n",
       "      <td>25970.0</td>\n",
       "      <td>7778.005623</td>\n",
       "    </tr>\n",
       "    <tr>\n",
       "      <th>1858</th>\n",
       "      <td>Four-Door Car</td>\n",
       "      <td>Extended</td>\n",
       "      <td>Offer1</td>\n",
       "      <td>Employed</td>\n",
       "      <td>Married</td>\n",
       "      <td>High School or Below</td>\n",
       "      <td>1.0</td>\n",
       "      <td>77.0</td>\n",
       "      <td>369.600000</td>\n",
       "      <td>23277.0</td>\n",
       "      <td>2993.117683</td>\n",
       "    </tr>\n",
       "    <tr>\n",
       "      <th>4526</th>\n",
       "      <td>Four-Door Car</td>\n",
       "      <td>Basic</td>\n",
       "      <td>Offer1</td>\n",
       "      <td>Unemployed</td>\n",
       "      <td>Single</td>\n",
       "      <td>High School or Below</td>\n",
       "      <td>3.0</td>\n",
       "      <td>61.0</td>\n",
       "      <td>616.279356</td>\n",
       "      <td>0.0</td>\n",
       "      <td>4446.738622</td>\n",
       "    </tr>\n",
       "  </tbody>\n",
       "</table>\n",
       "</div>"
      ],
      "text/plain": [
       "      Vehicle Class  Coverage Renew Offer Type EmploymentStatus  \\\n",
       "5187     Sports Car     Basic           Offer3         Disabled   \n",
       "4716   Two-Door Car  Extended           Offer2         Employed   \n",
       "2646  Four-Door Car     Basic           Offer4         Disabled   \n",
       "1858  Four-Door Car  Extended           Offer1         Employed   \n",
       "4526  Four-Door Car     Basic           Offer1       Unemployed   \n",
       "\n",
       "     Marital Status             Education  Number of Policies  \\\n",
       "5187        Married              Bachelor                 1.0   \n",
       "4716        Married               College                 1.0   \n",
       "2646        Married              Bachelor                 2.0   \n",
       "1858        Married  High School or Below                 1.0   \n",
       "4526         Single  High School or Below                 3.0   \n",
       "\n",
       "      Monthly Premium Auto  Total Claim Amount   Income  \\\n",
       "5187                 113.0          542.400000  14476.0   \n",
       "4716                  94.0          451.200000  94903.0   \n",
       "2646                  72.0          430.818992  25970.0   \n",
       "1858                  77.0          369.600000  23277.0   \n",
       "4526                  61.0          616.279356      0.0   \n",
       "\n",
       "      Customer Lifetime Value  \n",
       "5187              4236.842920  \n",
       "4716              3808.122147  \n",
       "2646              7778.005623  \n",
       "1858              2993.117683  \n",
       "4526              4446.738622  "
      ]
     },
     "execution_count": 2,
     "metadata": {},
     "output_type": "execute_result"
    }
   ],
   "source": [
    "df=pd.read_csv('input/dataset.csv')\n",
    "df.sample(5)"
   ]
  },
  {
   "cell_type": "code",
   "execution_count": 3,
   "id": "83310aca-b549-4a15-b69f-6ec0d6e4d3d8",
   "metadata": {},
   "outputs": [
    {
     "data": {
      "text/html": [
       "<div>\n",
       "<style scoped>\n",
       "    .dataframe tbody tr th:only-of-type {\n",
       "        vertical-align: middle;\n",
       "    }\n",
       "\n",
       "    .dataframe tbody tr th {\n",
       "        vertical-align: top;\n",
       "    }\n",
       "\n",
       "    .dataframe thead th {\n",
       "        text-align: right;\n",
       "    }\n",
       "</style>\n",
       "<table border=\"1\" class=\"dataframe\">\n",
       "  <thead>\n",
       "    <tr style=\"text-align: right;\">\n",
       "      <th></th>\n",
       "      <th>Number of Policies</th>\n",
       "      <th>Monthly Premium Auto</th>\n",
       "      <th>Total Claim Amount</th>\n",
       "      <th>Income</th>\n",
       "      <th>Customer Lifetime Value</th>\n",
       "    </tr>\n",
       "  </thead>\n",
       "  <tbody>\n",
       "    <tr>\n",
       "      <th>count</th>\n",
       "      <td>5669.000000</td>\n",
       "      <td>5669.000000</td>\n",
       "      <td>5669.000000</td>\n",
       "      <td>5669.000000</td>\n",
       "      <td>5669.000000</td>\n",
       "    </tr>\n",
       "    <tr>\n",
       "      <th>mean</th>\n",
       "      <td>2.979361</td>\n",
       "      <td>93.026989</td>\n",
       "      <td>431.407103</td>\n",
       "      <td>37868.188569</td>\n",
       "      <td>8029.874592</td>\n",
       "    </tr>\n",
       "    <tr>\n",
       "      <th>std</th>\n",
       "      <td>2.393187</td>\n",
       "      <td>34.551795</td>\n",
       "      <td>287.558038</td>\n",
       "      <td>30490.490723</td>\n",
       "      <td>6916.708246</td>\n",
       "    </tr>\n",
       "    <tr>\n",
       "      <th>min</th>\n",
       "      <td>1.000000</td>\n",
       "      <td>61.000000</td>\n",
       "      <td>0.423310</td>\n",
       "      <td>0.000000</td>\n",
       "      <td>1898.007675</td>\n",
       "    </tr>\n",
       "    <tr>\n",
       "      <th>25%</th>\n",
       "      <td>1.000000</td>\n",
       "      <td>68.000000</td>\n",
       "      <td>266.932542</td>\n",
       "      <td>0.000000</td>\n",
       "      <td>3954.344534</td>\n",
       "    </tr>\n",
       "    <tr>\n",
       "      <th>50%</th>\n",
       "      <td>2.000000</td>\n",
       "      <td>82.000000</td>\n",
       "      <td>379.200000</td>\n",
       "      <td>34322.000000</td>\n",
       "      <td>5800.188903</td>\n",
       "    </tr>\n",
       "    <tr>\n",
       "      <th>75%</th>\n",
       "      <td>4.000000</td>\n",
       "      <td>109.000000</td>\n",
       "      <td>549.986128</td>\n",
       "      <td>62464.000000</td>\n",
       "      <td>9031.214859</td>\n",
       "    </tr>\n",
       "    <tr>\n",
       "      <th>max</th>\n",
       "      <td>9.000000</td>\n",
       "      <td>297.000000</td>\n",
       "      <td>2759.794354</td>\n",
       "      <td>99934.000000</td>\n",
       "      <td>83325.381190</td>\n",
       "    </tr>\n",
       "  </tbody>\n",
       "</table>\n",
       "</div>"
      ],
      "text/plain": [
       "       Number of Policies  Monthly Premium Auto  Total Claim Amount  \\\n",
       "count         5669.000000           5669.000000         5669.000000   \n",
       "mean             2.979361             93.026989          431.407103   \n",
       "std              2.393187             34.551795          287.558038   \n",
       "min              1.000000             61.000000            0.423310   \n",
       "25%              1.000000             68.000000          266.932542   \n",
       "50%              2.000000             82.000000          379.200000   \n",
       "75%              4.000000            109.000000          549.986128   \n",
       "max              9.000000            297.000000         2759.794354   \n",
       "\n",
       "             Income  Customer Lifetime Value  \n",
       "count   5669.000000              5669.000000  \n",
       "mean   37868.188569              8029.874592  \n",
       "std    30490.490723              6916.708246  \n",
       "min        0.000000              1898.007675  \n",
       "25%        0.000000              3954.344534  \n",
       "50%    34322.000000              5800.188903  \n",
       "75%    62464.000000              9031.214859  \n",
       "max    99934.000000             83325.381190  "
      ]
     },
     "execution_count": 3,
     "metadata": {},
     "output_type": "execute_result"
    }
   ],
   "source": [
    "df.describe()"
   ]
  },
  {
   "cell_type": "markdown",
   "id": "ff91cb3c-3d9e-4249-a1f8-5b04a106d404",
   "metadata": {},
   "source": [
    "## Data Preprocessing"
   ]
  },
  {
   "cell_type": "markdown",
   "id": "3df1516d-fef9-40a9-aa19-5a6709abb16a",
   "metadata": {},
   "source": [
    "### Handle Missing Value"
   ]
  },
  {
   "cell_type": "code",
   "execution_count": 4,
   "id": "1f95ddbc-b18b-4679-a69b-31ab1879d873",
   "metadata": {},
   "outputs": [
    {
     "data": {
      "text/html": [
       "<div>\n",
       "<style scoped>\n",
       "    .dataframe tbody tr th:only-of-type {\n",
       "        vertical-align: middle;\n",
       "    }\n",
       "\n",
       "    .dataframe tbody tr th {\n",
       "        vertical-align: top;\n",
       "    }\n",
       "\n",
       "    .dataframe thead th {\n",
       "        text-align: right;\n",
       "    }\n",
       "</style>\n",
       "<table border=\"1\" class=\"dataframe\">\n",
       "  <thead>\n",
       "    <tr style=\"text-align: right;\">\n",
       "      <th></th>\n",
       "      <th>Missing Values</th>\n",
       "    </tr>\n",
       "  </thead>\n",
       "  <tbody>\n",
       "    <tr>\n",
       "      <th>Vehicle Class</th>\n",
       "      <td>0</td>\n",
       "    </tr>\n",
       "    <tr>\n",
       "      <th>Coverage</th>\n",
       "      <td>0</td>\n",
       "    </tr>\n",
       "    <tr>\n",
       "      <th>Renew Offer Type</th>\n",
       "      <td>0</td>\n",
       "    </tr>\n",
       "    <tr>\n",
       "      <th>EmploymentStatus</th>\n",
       "      <td>0</td>\n",
       "    </tr>\n",
       "    <tr>\n",
       "      <th>Marital Status</th>\n",
       "      <td>0</td>\n",
       "    </tr>\n",
       "    <tr>\n",
       "      <th>Education</th>\n",
       "      <td>0</td>\n",
       "    </tr>\n",
       "    <tr>\n",
       "      <th>Number of Policies</th>\n",
       "      <td>0</td>\n",
       "    </tr>\n",
       "    <tr>\n",
       "      <th>Monthly Premium Auto</th>\n",
       "      <td>0</td>\n",
       "    </tr>\n",
       "    <tr>\n",
       "      <th>Total Claim Amount</th>\n",
       "      <td>0</td>\n",
       "    </tr>\n",
       "    <tr>\n",
       "      <th>Income</th>\n",
       "      <td>0</td>\n",
       "    </tr>\n",
       "    <tr>\n",
       "      <th>Customer Lifetime Value</th>\n",
       "      <td>0</td>\n",
       "    </tr>\n",
       "  </tbody>\n",
       "</table>\n",
       "</div>"
      ],
      "text/plain": [
       "                         Missing Values\n",
       "Vehicle Class                         0\n",
       "Coverage                              0\n",
       "Renew Offer Type                      0\n",
       "EmploymentStatus                      0\n",
       "Marital Status                        0\n",
       "Education                             0\n",
       "Number of Policies                    0\n",
       "Monthly Premium Auto                  0\n",
       "Total Claim Amount                    0\n",
       "Income                                0\n",
       "Customer Lifetime Value               0"
      ]
     },
     "execution_count": 4,
     "metadata": {},
     "output_type": "execute_result"
    }
   ],
   "source": [
    "pd.DataFrame(df.isnull().sum()).rename(columns={0: \"Missing Values\"})"
   ]
  },
  {
   "cell_type": "markdown",
   "id": "3811ff6c-24bb-461e-944f-139fe13d9466",
   "metadata": {},
   "source": [
    "<div class=\"alert alert-block alert-success\">\n",
    "    <b>Result:</b> \n",
    "    No Missing values were found in the dataset.\n",
    "</div>"
   ]
  },
  {
   "cell_type": "markdown",
   "id": "1ace98dc-0019-4440-9252-88b49212e048",
   "metadata": {},
   "source": [
    "### Handle Duplicates"
   ]
  },
  {
   "cell_type": "code",
   "execution_count": 5,
   "id": "e5f9c85c-fd26-4729-b73e-fbb56749db2d",
   "metadata": {},
   "outputs": [
    {
     "data": {
      "text/html": [
       "<div>\n",
       "<style scoped>\n",
       "    .dataframe tbody tr th:only-of-type {\n",
       "        vertical-align: middle;\n",
       "    }\n",
       "\n",
       "    .dataframe tbody tr th {\n",
       "        vertical-align: top;\n",
       "    }\n",
       "\n",
       "    .dataframe thead th {\n",
       "        text-align: right;\n",
       "    }\n",
       "</style>\n",
       "<table border=\"1\" class=\"dataframe\">\n",
       "  <thead>\n",
       "    <tr style=\"text-align: right;\">\n",
       "      <th></th>\n",
       "      <th>Duplicate Values</th>\n",
       "    </tr>\n",
       "  </thead>\n",
       "  <tbody>\n",
       "    <tr>\n",
       "      <th>False</th>\n",
       "      <td>5051</td>\n",
       "    </tr>\n",
       "    <tr>\n",
       "      <th>True</th>\n",
       "      <td>618</td>\n",
       "    </tr>\n",
       "  </tbody>\n",
       "</table>\n",
       "</div>"
      ],
      "text/plain": [
       "       Duplicate Values\n",
       "False              5051\n",
       "True                618"
      ]
     },
     "execution_count": 5,
     "metadata": {},
     "output_type": "execute_result"
    }
   ],
   "source": [
    "pd.DataFrame(df.duplicated().value_counts()).rename(columns={\"count\": \"Duplicate Values\"})"
   ]
  },
  {
   "cell_type": "code",
   "execution_count": 6,
   "id": "87302b3d-d8c7-4eff-944c-87a785408373",
   "metadata": {},
   "outputs": [],
   "source": [
    "df = df.drop_duplicates()"
   ]
  },
  {
   "cell_type": "markdown",
   "id": "cd581859-e9db-4c29-8a6f-e31c75a7cebe",
   "metadata": {},
   "source": [
    "<div class=\"alert alert-block alert-danger\">\n",
    "    Found and removed <strong> 618 duplicate rows</strong> from the dataset (≈10.91% of total data).\n",
    "</div>"
   ]
  },
  {
   "cell_type": "markdown",
   "id": "6adc24f3-7b4a-4486-a772-0ce9d3923d04",
   "metadata": {},
   "source": [
    "### Handle Outlier"
   ]
  },
  {
   "cell_type": "code",
   "execution_count": 7,
   "id": "c6f60692-4b63-4a7f-b06c-c2f473245edd",
   "metadata": {},
   "outputs": [],
   "source": [
    "def remove_outliers_iqr(df, cols_to_check):\n",
    "    for col in cols_to_check:\n",
    "        Q1 = df[col].quantile(0.25)\n",
    "        Q3 = df[col].quantile(0.75)\n",
    "        IQR = Q3 - Q1\n",
    "        lower_bound = Q1 - 1.5 * IQR\n",
    "        upper_bound = Q3 + 1.5 * IQR\n",
    "        df = df[(df[col] >= lower_bound) & (df[col] <= upper_bound)]\n",
    "    return df"
   ]
  },
  {
   "cell_type": "code",
   "execution_count": 8,
   "id": "b3d604bf-656e-4d93-bf75-d647cbde97df",
   "metadata": {},
   "outputs": [
    {
     "data": {
      "image/png": "[encoded data removed]",
      "text/plain": [
       "<Figure size 1500x1000 with 4 Axes>"
      ]
     },
     "metadata": {},
     "output_type": "display_data"
    }
   ],
   "source": [
    "# Visualization\n",
    "numeric_columns = df.select_dtypes(include=[\"float64\", \"int64\"]).columns.tolist()\n",
    "if \"Customer Lifetime Value\" in numeric_columns:\n",
    "    numeric_columns.remove(\"Customer Lifetime Value\")\n",
    "\n",
    "plt.figure(figsize=(15, 10))\n",
    "for i, col in enumerate(numeric_columns, 1):\n",
    "    plt.subplot(3, 2, i)\n",
    "    sns.boxplot(x=df[col])\n",
    "    plt.title(f'Boxplot of {col}')\n",
    "    plt.tight_layout()\n",
    "plt.show()"
   ]
  },
  {
   "cell_type": "code",
   "execution_count": 9,
   "id": "80792737-d692-4858-9b0d-bc91c824acaa",
   "metadata": {},
   "outputs": [],
   "source": [
    "columns_with_outliers = [\n",
    "    \"Monthly Premium Auto\",\n",
    "    \"Total Claim Amount\",\n",
    "    \"Number of Policies\"\n",
    "]\n",
    "original_rows = df.shape[0]\n",
    "\n",
    "df = remove_outliers_iqr(df, columns_with_outliers)"
   ]
  },
  {
   "cell_type": "code",
   "execution_count": 10,
   "id": "c54c1229-8ce6-4b63-a3f1-5e0ed50406f5",
   "metadata": {},
   "outputs": [
    {
     "data": {
      "image/png": "[encoded data removed]",
      "text/plain": [
       "<Figure size 1500x1000 with 4 Axes>"
      ]
     },
     "metadata": {},
     "output_type": "display_data"
    }
   ],
   "source": [
    "# Visualization\n",
    "numeric_columns = df.select_dtypes(include=[\"float64\", \"int64\"]).columns.tolist()\n",
    "if \"Customer Lifetime Value\" in numeric_columns:\n",
    "    numeric_columns.remove(\"Customer Lifetime Value\")\n",
    "\n",
    "plt.figure(figsize=(15, 10))\n",
    "for i, col in enumerate(numeric_columns, 1):\n",
    "    plt.subplot(3, 2, i)\n",
    "    sns.boxplot(x=df[col])\n",
    "    plt.title(f'Boxplot of {col}')\n",
    "    plt.tight_layout()\n",
    "plt.show()"
   ]
  },
  {
   "cell_type": "markdown",
   "id": "42e3c661-8c93-4de8-96f1-2670fe5925c5",
   "metadata": {},
   "source": [
    "<div class=\"alert alert-block alert-danger\">\n",
    "    Found and removed <strong> 594 outlier rows</strong> from the dataset (≈11.76% of total data).\n",
    "</div>"
   ]
  },
  {
   "cell_type": "markdown",
   "id": "12142f7b-56e2-4ca0-b4d1-d37dbf1d49de",
   "metadata": {},
   "source": [
    "### Handle Invalid Value"
   ]
  },
  {
   "cell_type": "code",
   "execution_count": 14,
   "id": "2325cc9b-f57e-436d-8685-7b94e4408a86",
   "metadata": {},
   "outputs": [
    {
     "data": {
      "text/html": [
       "<div>\n",
       "<style scoped>\n",
       "    .dataframe tbody tr th:only-of-type {\n",
       "        vertical-align: middle;\n",
       "    }\n",
       "\n",
       "    .dataframe tbody tr th {\n",
       "        vertical-align: top;\n",
       "    }\n",
       "\n",
       "    .dataframe thead th {\n",
       "        text-align: right;\n",
       "    }\n",
       "</style>\n",
       "<table border=\"1\" class=\"dataframe\">\n",
       "  <thead>\n",
       "    <tr style=\"text-align: right;\">\n",
       "      <th></th>\n",
       "      <th>Number of Policies</th>\n",
       "      <th>Monthly Premium Auto</th>\n",
       "      <th>Total Claim Amount</th>\n",
       "      <th>Income</th>\n",
       "      <th>Customer Lifetime Value</th>\n",
       "    </tr>\n",
       "  </thead>\n",
       "  <tbody>\n",
       "    <tr>\n",
       "      <th>count</th>\n",
       "      <td>3342.000000</td>\n",
       "      <td>3342.000000</td>\n",
       "      <td>3342.000000</td>\n",
       "      <td>3342.000000</td>\n",
       "      <td>3342.000000</td>\n",
       "    </tr>\n",
       "    <tr>\n",
       "      <th>mean</th>\n",
       "      <td>2.681329</td>\n",
       "      <td>86.315081</td>\n",
       "      <td>333.158884</td>\n",
       "      <td>51492.718432</td>\n",
       "      <td>7721.927438</td>\n",
       "    </tr>\n",
       "    <tr>\n",
       "      <th>std</th>\n",
       "      <td>2.027174</td>\n",
       "      <td>22.375581</td>\n",
       "      <td>189.223811</td>\n",
       "      <td>24344.782862</td>\n",
       "      <td>6406.583102</td>\n",
       "    </tr>\n",
       "    <tr>\n",
       "      <th>min</th>\n",
       "      <td>1.000000</td>\n",
       "      <td>61.000000</td>\n",
       "      <td>0.423310</td>\n",
       "      <td>10037.000000</td>\n",
       "      <td>2227.072755</td>\n",
       "    </tr>\n",
       "    <tr>\n",
       "      <th>25%</th>\n",
       "      <td>1.000000</td>\n",
       "      <td>68.000000</td>\n",
       "      <td>187.866919</td>\n",
       "      <td>29668.000000</td>\n",
       "      <td>3750.560135</td>\n",
       "    </tr>\n",
       "    <tr>\n",
       "      <th>50%</th>\n",
       "      <td>2.000000</td>\n",
       "      <td>78.000000</td>\n",
       "      <td>326.400000</td>\n",
       "      <td>49362.500000</td>\n",
       "      <td>5612.776163</td>\n",
       "    </tr>\n",
       "    <tr>\n",
       "      <th>75%</th>\n",
       "      <td>3.000000</td>\n",
       "      <td>104.000000</td>\n",
       "      <td>459.948809</td>\n",
       "      <td>71398.500000</td>\n",
       "      <td>8832.975587</td>\n",
       "    </tr>\n",
       "    <tr>\n",
       "      <th>max</th>\n",
       "      <td>8.000000</td>\n",
       "      <td>170.000000</td>\n",
       "      <td>944.854655</td>\n",
       "      <td>99934.000000</td>\n",
       "      <td>57520.501510</td>\n",
       "    </tr>\n",
       "  </tbody>\n",
       "</table>\n",
       "</div>"
      ],
      "text/plain": [
       "       Number of Policies  Monthly Premium Auto  Total Claim Amount  \\\n",
       "count         3342.000000           3342.000000         3342.000000   \n",
       "mean             2.681329             86.315081          333.158884   \n",
       "std              2.027174             22.375581          189.223811   \n",
       "min              1.000000             61.000000            0.423310   \n",
       "25%              1.000000             68.000000          187.866919   \n",
       "50%              2.000000             78.000000          326.400000   \n",
       "75%              3.000000            104.000000          459.948809   \n",
       "max              8.000000            170.000000          944.854655   \n",
       "\n",
       "             Income  Customer Lifetime Value  \n",
       "count   3342.000000              3342.000000  \n",
       "mean   51492.718432              7721.927438  \n",
       "std    24344.782862              6406.583102  \n",
       "min    10037.000000              2227.072755  \n",
       "25%    29668.000000              3750.560135  \n",
       "50%    49362.500000              5612.776163  \n",
       "75%    71398.500000              8832.975587  \n",
       "max    99934.000000             57520.501510  "
      ]
     },
     "execution_count": 14,
     "metadata": {},
     "output_type": "execute_result"
    }
   ],
   "source": [
    "df.describe()"
   ]
  },
  {
   "cell_type": "markdown",
   "id": "fcc33b97-324a-499f-9609-a82330e71528",
   "metadata": {},
   "source": [
    "<div class=\"alert alert-block alert-success\">\n",
    "    <b>Result:</b> \n",
    "    No invalid values were found. All numeric fields contain plausible and consistent data.\n",
    "</div>"
   ]
  },
  {
   "cell_type": "markdown",
   "id": "8cd9eaa6-97b6-443d-a638-c8a657cb3f17",
   "metadata": {},
   "source": [
    "## Data Preparation"
   ]
  },
  {
   "cell_type": "markdown",
   "id": "3f6ec5da-1416-48ec-bb89-5fded6dcaad3",
   "metadata": {
    "jp-MarkdownHeadingCollapsed": true
   },
   "source": [
    "## Modeling & Evaluation"
   ]
  },
  {
   "cell_type": "markdown",
   "id": "801b6706-e7b7-42d6-8a53-05dde36f1b75",
   "metadata": {},
   "source": [
    "### Logistic Regression"
   ]
  },
  {
   "cell_type": "markdown",
   "id": "ec57e0e7-9101-497e-8f83-8b2ecf8c357a",
   "metadata": {},
   "source": [
    "### K Nearest Neighbor"
   ]
  },
  {
   "cell_type": "markdown",
   "id": "126c1a10-d0a9-42ed-88b6-7bd762a50ac8",
   "metadata": {},
   "source": [
    "### Decision Tree"
   ]
  },
  {
   "cell_type": "markdown",
   "id": "269b505a-e8cd-4cc1-9cfc-159a51cca3c8",
   "metadata": {},
   "source": [
    "### Random Forest"
   ]
  },
  {
   "cell_type": "markdown",
   "id": "1100d7f6-2a81-4fd2-857f-593b9f5d9a29",
   "metadata": {},
   "source": [
    "### XGB Classifier"
   ]
  },
  {
   "cell_type": "markdown",
   "id": "d48aa447-3bf7-4241-a390-7647061a685b",
   "metadata": {
    "jp-MarkdownHeadingCollapsed": true
   },
   "source": [
    "## Conclusion & Recommendation"
   ]
  },
  {
   "cell_type": "markdown",
   "id": "1b3fa8ab-2bed-47b9-97c5-494b8cbefb94",
   "metadata": {},
   "source": [
    "### Conclusion"
   ]
  },
  {
   "cell_type": "markdown",
   "id": "b0b6a994-1106-4a5b-bb72-90c28943ae1c",
   "metadata": {},
   "source": [
    "### Recommendation"
   ]
  },
  {
   "cell_type": "code",
   "execution_count": null,
   "id": "605c73c9-5ade-4c93-bfc9-14ccff6798ba",
   "metadata": {},
   "outputs": [],
   "source": []
  }
 ],
 "metadata": {
  "kernelspec": {
   "display_name": "Python 3 (ipykernel)",
   "language": "python",
   "name": "python3"
  },
  "language_info": {
   "codemirror_mode": {
    "name": "ipython",
    "version": 3
   },
   "file_extension": ".py",
   "mimetype": "text/x-python",
   "name": "python",
   "nbconvert_exporter": "python",
   "pygments_lexer": "ipython3",
   "version": "3.13.3"
  }
 },
 "nbformat": 4,
 "nbformat_minor": 5
}
