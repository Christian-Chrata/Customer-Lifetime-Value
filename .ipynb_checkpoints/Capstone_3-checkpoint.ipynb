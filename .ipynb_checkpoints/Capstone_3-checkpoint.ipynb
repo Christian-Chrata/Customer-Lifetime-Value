{
 "cells": [
  {
   "cell_type": "markdown",
   "id": "78739ebf-b894-4d6d-b129-be312f51a093",
   "metadata": {},
   "source": [
    "## Customer Lifetime Value\n",
    "### Created By : Christian\n",
    "### Dataset : [Customer Lifetime Value Dataset](https://drive.google.com/drive/folders/1GR7l3uWmcOCA2sxx1W-cEkReDxdedoeJ) "
   ]
  },
  {
   "cell_type": "code",
   "execution_count": 13,
   "id": "c09215ff-0989-419c-913c-05b7bff3bdd9",
   "metadata": {},
   "outputs": [],
   "source": [
    "# Library\n",
    "import pandas as pd\n",
    "import numpy as np\n",
    "\n",
    "# Visualization\n",
    "import matplotlib.pyplot as plt\n",
    "import seaborn as sns\n",
    "import missingno\n",
    "from IPython.display import display\n",
    "\n",
    "# Feature Engineering\n",
    "from sklearn.pipeline import Pipeline\n",
    "from sklearn.impute import SimpleImputer\n",
    "from sklearn.preprocessing import OneHotEncoder, LabelEncoder, OrdinalEncoder\n",
    "from sklearn.compose import ColumnTransformer\n",
    "import category_encoders as ce\n",
    "\n",
    "# Model Selection\n",
    "from sklearn.linear_model import LogisticRegression\n",
    "from sklearn.tree import DecisionTreeClassifier\n",
    "from sklearn.model_selection import GridSearchCV,StratifiedKFold,train_test_split, cross_val_score\n",
    "from sklearn.metrics import classification_report, confusion_matrix\n",
    "from sklearn.neighbors import KNeighborsClassifier\n",
    "from sklearn.ensemble import RandomForestClassifier\n",
    "from xgboost import XGBClassifier\n",
    "import lightgbm as lgb\n",
    "from sklearn.metrics import f1_score, accuracy_score, recall_score, precision_score\n",
    "from sklearn.metrics import RocCurveDisplay\n",
    "\n",
    "# Imbalance Dataset\n",
    "from imblearn.pipeline import Pipeline\n",
    "from imblearn.over_sampling import RandomOverSampler\n",
    "\n",
    "# Ignore Warning\n",
    "import sys\n",
    "import warnings\n",
    "if not sys.warnoptions:\n",
    "    warnings.simplefilter(\"ignore\")\n",
    "\n",
    "# Set max columns\n",
    "pd.set_option('display.max_columns', None)"
   ]
  },
  {
   "cell_type": "markdown",
   "id": "8fd2d3ab-7457-41ed-9d8f-837cbeb975e2",
   "metadata": {},
   "source": [
    "## Contents\n",
    "1. asd\n",
    "1. ASD"
   ]
  },
  {
   "cell_type": "markdown",
   "id": "5e5a296f-d0a2-4134-8185-ee80c70c41df",
   "metadata": {},
   "source": [
    "## Business Problem Understanding"
   ]
  },
  {
   "cell_type": "markdown",
   "id": "df5bf98c-1225-46d4-b547-49ba36c3cf09",
   "metadata": {},
   "source": [
    "**Context**\\\n",
    "asd"
   ]
  },
  {
   "cell_type": "markdown",
   "id": "3f200e89-e90b-49b5-b26b-7e86d73a7daa",
   "metadata": {},
   "source": [
    "**Problem Statement**\\\n",
    "asd"
   ]
  },
  {
   "cell_type": "markdown",
   "id": "b92cbbcb-b9ed-48be-9cd0-2f1e77afabb5",
   "metadata": {},
   "source": [
    "**Goals**\\\n",
    "asd"
   ]
  },
  {
   "cell_type": "markdown",
   "id": "bcc0b1ec-3cae-46d4-a327-e0e533501016",
   "metadata": {},
   "source": [
    "**Analytic Approach**\\\n",
    "asd"
   ]
  },
  {
   "cell_type": "markdown",
   "id": "87f285cf-b05d-4960-b6b0-66ef60df4262",
   "metadata": {},
   "source": [
    "**Metric Evaluation**\\\n",
    "asd"
   ]
  },
  {
   "cell_type": "markdown",
   "id": "337c554f-13cc-47e6-8f21-21d72f66277b",
   "metadata": {},
   "source": [
    "## Data Understanding"
   ]
  },
  {
   "cell_type": "markdown",
   "id": "7225b404-7130-4261-8d4d-c5b24e4b00d9",
   "metadata": {},
   "source": [
    "### Attribute Information\n",
    "| Attribute | Data Type, Length | Description |\n",
    "| --- | --- | --- |\n",
    "| enrollee_id | Long | Unique ID for candidate |\n",
    "| city | Text | City code |\n",
    "| city_development_index | Float | Developement index of the city (scaled) |\n",
    "| gender | Text | Gender of candidate |\n",
    "| relevent_experience | Text | Relevant experience of candidate |\n",
    "| enrolled_university | Text | Type of University course enrolled if any |\n",
    "| education_level | Text | Education level of candidate |\n",
    "| major_discipline | Text | Education major discipline of candidate |\n",
    "| experience | Text | Candidate total experience in years |\n",
    "| company_size | Text | No of employees in current employer's company |\n",
    "| company_type | Text | Type of current employer |\n",
    "| last_new_job | Text | Difference in years between previous job and current job |\n",
    "| training_hours | Long | training hours completed |\n",
    "| target | Float | 0 – Not looking for job change, 1 – Looking for a job change |"
   ]
  },
  {
   "cell_type": "code",
   "execution_count": 2,
   "id": "cf3de174-9622-413e-985f-c1cc5ea6ae9f",
   "metadata": {},
   "outputs": [
    {
     "data": {
      "text/html": [
       "<div>\n",
       "<style scoped>\n",
       "    .dataframe tbody tr th:only-of-type {\n",
       "        vertical-align: middle;\n",
       "    }\n",
       "\n",
       "    .dataframe tbody tr th {\n",
       "        vertical-align: top;\n",
       "    }\n",
       "\n",
       "    .dataframe thead th {\n",
       "        text-align: right;\n",
       "    }\n",
       "</style>\n",
       "<table border=\"1\" class=\"dataframe\">\n",
       "  <thead>\n",
       "    <tr style=\"text-align: right;\">\n",
       "      <th></th>\n",
       "      <th>Vehicle Class</th>\n",
       "      <th>Coverage</th>\n",
       "      <th>Renew Offer Type</th>\n",
       "      <th>EmploymentStatus</th>\n",
       "      <th>Marital Status</th>\n",
       "      <th>Education</th>\n",
       "      <th>Number of Policies</th>\n",
       "      <th>Monthly Premium Auto</th>\n",
       "      <th>Total Claim Amount</th>\n",
       "      <th>Income</th>\n",
       "      <th>Customer Lifetime Value</th>\n",
       "    </tr>\n",
       "  </thead>\n",
       "  <tbody>\n",
       "    <tr>\n",
       "      <th>0</th>\n",
       "      <td>Four-Door Car</td>\n",
       "      <td>Extended</td>\n",
       "      <td>Offer1</td>\n",
       "      <td>Retired</td>\n",
       "      <td>Divorced</td>\n",
       "      <td>High School or Below</td>\n",
       "      <td>2.0</td>\n",
       "      <td>90.0</td>\n",
       "      <td>571.479602</td>\n",
       "      <td>11828.0</td>\n",
       "      <td>10083.486880</td>\n",
       "    </tr>\n",
       "    <tr>\n",
       "      <th>1</th>\n",
       "      <td>Four-Door Car</td>\n",
       "      <td>Basic</td>\n",
       "      <td>Offer1</td>\n",
       "      <td>Employed</td>\n",
       "      <td>Married</td>\n",
       "      <td>College</td>\n",
       "      <td>6.0</td>\n",
       "      <td>62.0</td>\n",
       "      <td>114.514440</td>\n",
       "      <td>44762.0</td>\n",
       "      <td>4943.386117</td>\n",
       "    </tr>\n",
       "    <tr>\n",
       "      <th>2</th>\n",
       "      <td>Two-Door Car</td>\n",
       "      <td>Basic</td>\n",
       "      <td>Offer1</td>\n",
       "      <td>Retired</td>\n",
       "      <td>Married</td>\n",
       "      <td>Master</td>\n",
       "      <td>2.0</td>\n",
       "      <td>62.0</td>\n",
       "      <td>257.248789</td>\n",
       "      <td>21514.0</td>\n",
       "      <td>11981.984810</td>\n",
       "    </tr>\n",
       "    <tr>\n",
       "      <th>3</th>\n",
       "      <td>Four-Door Car</td>\n",
       "      <td>Premium</td>\n",
       "      <td>Offer3</td>\n",
       "      <td>Disabled</td>\n",
       "      <td>Married</td>\n",
       "      <td>High School or Below</td>\n",
       "      <td>1.0</td>\n",
       "      <td>116.0</td>\n",
       "      <td>556.800000</td>\n",
       "      <td>17913.0</td>\n",
       "      <td>4550.856045</td>\n",
       "    </tr>\n",
       "    <tr>\n",
       "      <th>4</th>\n",
       "      <td>Two-Door Car</td>\n",
       "      <td>Basic</td>\n",
       "      <td>Offer3</td>\n",
       "      <td>Medical Leave</td>\n",
       "      <td>Married</td>\n",
       "      <td>High School or Below</td>\n",
       "      <td>1.0</td>\n",
       "      <td>62.0</td>\n",
       "      <td>355.820799</td>\n",
       "      <td>19030.0</td>\n",
       "      <td>2372.155492</td>\n",
       "    </tr>\n",
       "    <tr>\n",
       "      <th>...</th>\n",
       "      <td>...</td>\n",
       "      <td>...</td>\n",
       "      <td>...</td>\n",
       "      <td>...</td>\n",
       "      <td>...</td>\n",
       "      <td>...</td>\n",
       "      <td>...</td>\n",
       "      <td>...</td>\n",
       "      <td>...</td>\n",
       "      <td>...</td>\n",
       "      <td>...</td>\n",
       "    </tr>\n",
       "    <tr>\n",
       "      <th>5664</th>\n",
       "      <td>Four-Door Car</td>\n",
       "      <td>Basic</td>\n",
       "      <td>Offer4</td>\n",
       "      <td>Unemployed</td>\n",
       "      <td>Single</td>\n",
       "      <td>High School or Below</td>\n",
       "      <td>1.0</td>\n",
       "      <td>74.0</td>\n",
       "      <td>532.800000</td>\n",
       "      <td>0.0</td>\n",
       "      <td>2442.216651</td>\n",
       "    </tr>\n",
       "    <tr>\n",
       "      <th>5665</th>\n",
       "      <td>Four-Door Car</td>\n",
       "      <td>Premium</td>\n",
       "      <td>Offer1</td>\n",
       "      <td>Employed</td>\n",
       "      <td>Divorced</td>\n",
       "      <td>Bachelor</td>\n",
       "      <td>2.0</td>\n",
       "      <td>109.0</td>\n",
       "      <td>523.200000</td>\n",
       "      <td>27778.0</td>\n",
       "      <td>12904.943360</td>\n",
       "    </tr>\n",
       "    <tr>\n",
       "      <th>5666</th>\n",
       "      <td>Four-Door Car</td>\n",
       "      <td>Basic</td>\n",
       "      <td>Offer1</td>\n",
       "      <td>Employed</td>\n",
       "      <td>Single</td>\n",
       "      <td>Bachelor</td>\n",
       "      <td>1.0</td>\n",
       "      <td>62.0</td>\n",
       "      <td>44.780402</td>\n",
       "      <td>84658.0</td>\n",
       "      <td>2447.053134</td>\n",
       "    </tr>\n",
       "    <tr>\n",
       "      <th>5667</th>\n",
       "      <td>Luxury SUV</td>\n",
       "      <td>Extended</td>\n",
       "      <td>Offer2</td>\n",
       "      <td>Employed</td>\n",
       "      <td>Divorced</td>\n",
       "      <td>Master</td>\n",
       "      <td>7.0</td>\n",
       "      <td>239.0</td>\n",
       "      <td>1294.700423</td>\n",
       "      <td>22705.0</td>\n",
       "      <td>19160.989940</td>\n",
       "    </tr>\n",
       "    <tr>\n",
       "      <th>5668</th>\n",
       "      <td>Luxury SUV</td>\n",
       "      <td>Basic</td>\n",
       "      <td>Offer2</td>\n",
       "      <td>Employed</td>\n",
       "      <td>Divorced</td>\n",
       "      <td>College</td>\n",
       "      <td>1.0</td>\n",
       "      <td>199.0</td>\n",
       "      <td>161.615740</td>\n",
       "      <td>60184.0</td>\n",
       "      <td>7664.219255</td>\n",
       "    </tr>\n",
       "  </tbody>\n",
       "</table>\n",
       "<p>5669 rows × 11 columns</p>\n",
       "</div>"
      ],
      "text/plain": [
       "      Vehicle Class  Coverage Renew Offer Type EmploymentStatus  \\\n",
       "0     Four-Door Car  Extended           Offer1          Retired   \n",
       "1     Four-Door Car     Basic           Offer1         Employed   \n",
       "2      Two-Door Car     Basic           Offer1          Retired   \n",
       "3     Four-Door Car   Premium           Offer3         Disabled   \n",
       "4      Two-Door Car     Basic           Offer3    Medical Leave   \n",
       "...             ...       ...              ...              ...   \n",
       "5664  Four-Door Car     Basic           Offer4       Unemployed   \n",
       "5665  Four-Door Car   Premium           Offer1         Employed   \n",
       "5666  Four-Door Car     Basic           Offer1         Employed   \n",
       "5667     Luxury SUV  Extended           Offer2         Employed   \n",
       "5668     Luxury SUV     Basic           Offer2         Employed   \n",
       "\n",
       "     Marital Status             Education  Number of Policies  \\\n",
       "0          Divorced  High School or Below                 2.0   \n",
       "1           Married               College                 6.0   \n",
       "2           Married                Master                 2.0   \n",
       "3           Married  High School or Below                 1.0   \n",
       "4           Married  High School or Below                 1.0   \n",
       "...             ...                   ...                 ...   \n",
       "5664         Single  High School or Below                 1.0   \n",
       "5665       Divorced              Bachelor                 2.0   \n",
       "5666         Single              Bachelor                 1.0   \n",
       "5667       Divorced                Master                 7.0   \n",
       "5668       Divorced               College                 1.0   \n",
       "\n",
       "      Monthly Premium Auto  Total Claim Amount   Income  \\\n",
       "0                     90.0          571.479602  11828.0   \n",
       "1                     62.0          114.514440  44762.0   \n",
       "2                     62.0          257.248789  21514.0   \n",
       "3                    116.0          556.800000  17913.0   \n",
       "4                     62.0          355.820799  19030.0   \n",
       "...                    ...                 ...      ...   \n",
       "5664                  74.0          532.800000      0.0   \n",
       "5665                 109.0          523.200000  27778.0   \n",
       "5666                  62.0           44.780402  84658.0   \n",
       "5667                 239.0         1294.700423  22705.0   \n",
       "5668                 199.0          161.615740  60184.0   \n",
       "\n",
       "      Customer Lifetime Value  \n",
       "0                10083.486880  \n",
       "1                 4943.386117  \n",
       "2                11981.984810  \n",
       "3                 4550.856045  \n",
       "4                 2372.155492  \n",
       "...                       ...  \n",
       "5664              2442.216651  \n",
       "5665             12904.943360  \n",
       "5666              2447.053134  \n",
       "5667             19160.989940  \n",
       "5668              7664.219255  \n",
       "\n",
       "[5669 rows x 11 columns]"
      ]
     },
     "execution_count": 2,
     "metadata": {},
     "output_type": "execute_result"
    }
   ],
   "source": [
    "df=pd.read_csv('input/dataset.csv')\n",
    "df"
   ]
  },
  {
   "cell_type": "markdown",
   "id": "ff91cb3c-3d9e-4249-a1f8-5b04a106d404",
   "metadata": {},
   "source": [
    "## Data Preprocessing"
   ]
  },
  {
   "cell_type": "markdown",
   "id": "1ace98dc-0019-4440-9252-88b49212e048",
   "metadata": {},
   "source": [
    "### Handle Duplicates"
   ]
  },
  {
   "cell_type": "markdown",
   "id": "3df1516d-fef9-40a9-aa19-5a6709abb16a",
   "metadata": {},
   "source": [
    "### Handle Missing Value"
   ]
  },
  {
   "cell_type": "markdown",
   "id": "6adc24f3-7b4a-4486-a772-0ce9d3923d04",
   "metadata": {},
   "source": [
    "### Handle Outlier"
   ]
  },
  {
   "cell_type": "markdown",
   "id": "12142f7b-56e2-4ca0-b4d1-d37dbf1d49de",
   "metadata": {},
   "source": [
    "### Handle Invalid Value"
   ]
  },
  {
   "cell_type": "markdown",
   "id": "3f6ec5da-1416-48ec-bb89-5fded6dcaad3",
   "metadata": {},
   "source": [
    "## Modeling & Evaluation"
   ]
  },
  {
   "cell_type": "markdown",
   "id": "801b6706-e7b7-42d6-8a53-05dde36f1b75",
   "metadata": {},
   "source": [
    "### Logistic Regression"
   ]
  },
  {
   "cell_type": "markdown",
   "id": "ec57e0e7-9101-497e-8f83-8b2ecf8c357a",
   "metadata": {},
   "source": [
    "### K Nearest Neighbor"
   ]
  },
  {
   "cell_type": "markdown",
   "id": "126c1a10-d0a9-42ed-88b6-7bd762a50ac8",
   "metadata": {},
   "source": [
    "### Decision Tree"
   ]
  },
  {
   "cell_type": "markdown",
   "id": "269b505a-e8cd-4cc1-9cfc-159a51cca3c8",
   "metadata": {},
   "source": [
    "### Random Forest"
   ]
  },
  {
   "cell_type": "markdown",
   "id": "1100d7f6-2a81-4fd2-857f-593b9f5d9a29",
   "metadata": {},
   "source": [
    "### XGB Classifier"
   ]
  },
  {
   "cell_type": "markdown",
   "id": "d48aa447-3bf7-4241-a390-7647061a685b",
   "metadata": {},
   "source": [
    "## Conclusion & Recommendation"
   ]
  },
  {
   "cell_type": "markdown",
   "id": "1b3fa8ab-2bed-47b9-97c5-494b8cbefb94",
   "metadata": {},
   "source": [
    "### Conclusion"
   ]
  },
  {
   "cell_type": "markdown",
   "id": "b0b6a994-1106-4a5b-bb72-90c28943ae1c",
   "metadata": {},
   "source": [
    "### Recommendation"
   ]
  },
  {
   "cell_type": "code",
   "execution_count": null,
   "id": "605c73c9-5ade-4c93-bfc9-14ccff6798ba",
   "metadata": {},
   "outputs": [],
   "source": []
  }
 ],
 "metadata": {
  "kernelspec": {
   "display_name": "Python 3 (ipykernel)",
   "language": "python",
   "name": "python3"
  },
  "language_info": {
   "codemirror_mode": {
    "name": "ipython",
    "version": 3
   },
   "file_extension": ".py",
   "mimetype": "text/x-python",
   "name": "python",
   "nbconvert_exporter": "python",
   "pygments_lexer": "ipython3",
   "version": "3.13.3"
  }
 },
 "nbformat": 4,
 "nbformat_minor": 5
}
